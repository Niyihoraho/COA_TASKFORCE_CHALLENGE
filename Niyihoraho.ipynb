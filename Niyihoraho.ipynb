{
  "nbformat": 4,
  "nbformat_minor": 0,
  "metadata": {
    "colab": {
      "provenance": [],
      "authorship_tag": "ABX9TyOJSzFjCs+rl9kjkBCxEad+",
      "include_colab_link": true
    },
    "kernelspec": {
      "name": "python3",
      "display_name": "Python 3"
    },
    "language_info": {
      "name": "python"
    }
  },
  "cells": [
    {
      "cell_type": "markdown",
      "metadata": {
        "id": "view-in-github",
        "colab_type": "text"
      },
      "source": [
        "<a href=\"https://colab.research.google.com/github/Niyihoraho/COA_TASKFORCE_CHALLENGE/blob/main/Niyihoraho.ipynb\" target=\"_parent\"><img src=\"https://colab.research.google.com/assets/colab-badge.svg\" alt=\"Open In Colab\"/></a>"
      ]
    },
    {
      "cell_type": "code",
      "execution_count": null,
      "metadata": {
        "id": "wYf1Lo6nPAsN"
      },
      "outputs": [],
      "source": [
        "2401001274"
      ]
    },
    {
      "cell_type": "code",
      "source": [
        "import requests\n",
        "import json"
      ],
      "metadata": {
        "id": "hQsMjsLxPFND"
      },
      "execution_count": 3,
      "outputs": []
    },
    {
      "cell_type": "code",
      "source": [
        "!pip3 install requests"
      ],
      "metadata": {
        "colab": {
          "base_uri": "https://localhost:8080/"
        },
        "id": "o69Xecm9PMu_",
        "outputId": "6a1e8292-b4f7-4dc0-9353-cb0ab9bde3dc"
      },
      "execution_count": 4,
      "outputs": [
        {
          "output_type": "stream",
          "name": "stdout",
          "text": [
            "Requirement already satisfied: requests in /usr/local/lib/python3.11/dist-packages (2.32.3)\n",
            "Requirement already satisfied: charset-normalizer<4,>=2 in /usr/local/lib/python3.11/dist-packages (from requests) (3.4.2)\n",
            "Requirement already satisfied: idna<4,>=2.5 in /usr/local/lib/python3.11/dist-packages (from requests) (3.10)\n",
            "Requirement already satisfied: urllib3<3,>=1.21.1 in /usr/local/lib/python3.11/dist-packages (from requests) (2.4.0)\n",
            "Requirement already satisfied: certifi>=2017.4.17 in /usr/local/lib/python3.11/dist-packages (from requests) (2025.7.9)\n"
          ]
        }
      ]
    },
    {
      "cell_type": "code",
      "source": [
        "result = requests.get('https://api.stackexchange.com/2.3/questions?order=desc&sort=activity&site=stackoverflow&answers=0')\n",
        "print(result)"
      ],
      "metadata": {
        "colab": {
          "base_uri": "https://localhost:8080/"
        },
        "id": "6zP-yZoEP-DE",
        "outputId": "d398f4e5-17e3-49f3-ff95-d70965175917"
      },
      "execution_count": 17,
      "outputs": [
        {
          "output_type": "stream",
          "name": "stdout",
          "text": [
            "<Response [200]>\n"
          ]
        }
      ]
    },
    {
      "cell_type": "code",
      "source": [
        "print(result.json())"
      ],
      "metadata": {
        "colab": {
          "base_uri": "https://localhost:8080/"
        },
        "id": "yCF8OnQeS3JB",
        "outputId": "2e16f468-01ba-49d3-ac86-b01d4fd602bd"
      },
      "execution_count": 18,
      "outputs": [
        {
          "output_type": "stream",
          "name": "stdout",
          "text": [
            "{'items': [{'tags': ['python'], 'owner': {'account_id': 42675212, 'reputation': 1, 'user_id': 30867073, 'user_type': 'registered', 'profile_image': 'https://www.gravatar.com/avatar/454438688e9bf9ca1b3e19a858df8c1f?s=256&d=identicon&r=PG&f=y&so-version=2', 'display_name': 'Xudong Song', 'link': 'https://stackoverflow.com/users/30867073/xudong-song'}, 'is_answered': False, 'view_count': 37, 'closed_date': 1752315894, 'answer_count': 0, 'score': -5, 'last_activity_date': 1752319463, 'creation_date': 1752313120, 'last_edit_date': 1752319463, 'question_id': 79699163, 'link': 'https://stackoverflow.com/questions/79699163/how-to-use-relative-path-to-get-file-in-c-drive-but-the-current-program-file-is', 'closed_reason': 'Not suitable for this site', 'title': 'How to use relative path to get file in C drive but the current program file is in D drive?'}, {'tags': ['python', 'google-colaboratory', 'fast-ai'], 'owner': {'account_id': 10352047, 'reputation': 21, 'user_id': 7635193, 'user_type': 'registered', 'profile_image': 'https://www.gravatar.com/avatar/7680fa3169fa7b3d88b22cc5b1ad6827?s=256&d=identicon&r=PG&f=y&so-version=2', 'display_name': 'nish', 'link': 'https://stackoverflow.com/users/7635193/nish'}, 'is_answered': False, 'view_count': 19, 'answer_count': 0, 'score': 0, 'last_activity_date': 1752319443, 'creation_date': 1752253866, 'last_edit_date': 1752319443, 'question_id': 79698656, 'content_license': 'CC BY-SA 4.0', 'link': 'https://stackoverflow.com/questions/79698656/cannot-load-fastai-pkl-model-locally-due-to-missing-ampmode-and-module-version', 'title': 'Cannot load FastAI .pkl model locally due to missing AMPMode and module version issues'}, {'tags': ['list', 'cmake', 'macros', 'set', 'expansion'], 'owner': {'account_id': 12684651, 'reputation': 657, 'user_id': 9216943, 'user_type': 'registered', 'profile_image': 'https://lh6.googleusercontent.com/-Vq8ii5GQCKw/AAAAAAAAAAI/AAAAAAAAAU4/Q-nW6SPnbc4/s256-rj/photo.jpg', 'display_name': 'Zach ', 'link': 'https://stackoverflow.com/users/9216943/zach'}, 'is_answered': False, 'view_count': 34, 'closed_date': 1752174531, 'answer_count': 0, 'score': 0, 'last_activity_date': 1752319439, 'creation_date': 1751932622, 'last_edit_date': 1752319439, 'question_id': 79693529, 'link': 'https://stackoverflow.com/questions/79693529/why-does-this-cmake-list-variable-expansion-not-behave-as-expected', 'closed_reason': 'Not suitable for this site', 'title': 'Why does this CMake list variable expansion not behave as expected?'}, {'tags': ['javascript', 'vue.js', 'dom', 'frontend', 'vuejs3'], 'owner': {'account_id': 28296527, 'reputation': 1, 'user_id': 21635904, 'user_type': 'registered', 'profile_image': 'https://www.gravatar.com/avatar/b3f7fe3e201c45ae9f1d31b9f91ad0f2?s=256&d=identicon&r=PG&f=y&so-version=2', 'display_name': 'Nicolas2099', 'link': 'https://stackoverflow.com/users/21635904/nicolas2099'}, 'is_answered': True, 'view_count': 77, 'accepted_answer_id': 77667295, 'answer_count': 1, 'score': -1, 'last_activity_date': 1752319364, 'creation_date': 1702646778, 'question_id': 77666567, 'content_license': 'CC BY-SA 4.0', 'link': 'https://stackoverflow.com/questions/77666567/vue-data-isnt-displayed-on-a-page', 'title': 'vue data isn`t displayed on a page'}, {'tags': ['javascript', 'reactjs', 'components'], 'owner': {'account_id': 34374199, 'reputation': 11, 'user_id': 26535772, 'user_type': 'registered', 'profile_image': 'https://www.gravatar.com/avatar/2bf503c25a99c36927066a0fd6468bc7?s=256&d=identicon&r=PG&f=y&so-version=2', 'display_name': 'asfreeman18', 'link': 'https://stackoverflow.com/users/26535772/asfreeman18'}, 'is_answered': True, 'view_count': 102, 'answer_count': 2, 'score': -2, 'last_activity_date': 1752319299, 'creation_date': 1750488836, 'last_edit_date': 1752095654, 'question_id': 79674218, 'content_license': 'CC BY-SA 4.0', 'link': 'https://stackoverflow.com/questions/79674218/how-to-prevent-filtered-component-from-re-rendering-over-and-over', 'title': 'How to prevent filtered component from re-rendering over and over?'}, {'tags': ['c#', 'asynchronous'], 'owner': {'account_id': 5032545, 'reputation': 155, 'user_id': 6225921, 'user_type': 'registered', 'profile_image': 'https://www.gravatar.com/avatar/56f3cc2463b7b25f4254e19fc811565a?s=256&d=identicon&r=PG', 'display_name': 'chuackt', 'link': 'https://stackoverflow.com/users/6225921/chuackt'}, 'is_answered': False, 'view_count': 9, 'answer_count': 0, 'score': 0, 'last_activity_date': 1752319111, 'creation_date': 1752319111, 'question_id': 79699227, 'content_license': 'CC BY-SA 4.0', 'link': 'https://stackoverflow.com/questions/79699227/is-the-finish-awaited-process-executed-using-multi-thread-or-interrupt-function', 'title': 'Is the finish awaited process executed using multi thread or interrupt function in this scenario'}, {'tags': ['server', 'proxy', 'reverse-proxy', 'haproxy'], 'owner': {'account_id': 22630572, 'reputation': 35, 'user_id': 16808004, 'user_type': 'registered', 'profile_image': 'https://www.gravatar.com/avatar/a950633facb514126db7b83d30bb5aa5?s=256&d=identicon&r=PG&f=y&so-version=2', 'display_name': 'ashduino101', 'link': 'https://stackoverflow.com/users/16808004/ashduino101'}, 'is_answered': False, 'view_count': 15, 'answer_count': 1, 'score': 0, 'last_activity_date': 1752319086, 'creation_date': 1751934855, 'question_id': 79693542, 'content_license': 'CC BY-SA 4.0', 'link': 'https://stackoverflow.com/questions/79693542/is-it-possible-to-route-traffic-through-another-server-with-haproxy', 'title': 'Is it possible to route traffic through another server with HAProxy?'}, {'tags': ['binding', 'model', 'controller', 'sapui5'], 'owner': {'account_id': 4446456, 'reputation': 281, 'user_id': 3619598, 'user_type': 'registered', 'accept_rate': 29, 'profile_image': 'https://www.gravatar.com/avatar/e081ce0890a17e9aa8f4f05207770d68?s=256&d=identicon&r=PG&f=y&so-version=2', 'display_name': 'Simo03', 'link': 'https://stackoverflow.com/users/3619598/simo03'}, 'is_answered': True, 'view_count': 3909, 'answer_count': 1, 'score': 0, 'last_activity_date': 1752318949, 'creation_date': 1491240290, 'last_edit_date': 1491298844, 'question_id': 43190746, 'content_license': 'CC BY-SA 3.0', 'link': 'https://stackoverflow.com/questions/43190746/get-model-in-the-controller', 'title': 'Get model in the controller'}, {'tags': ['php', 'visual-studio-code', 'laragon', 'liveserver'], 'owner': {'account_id': 3014871, 'reputation': 11, 'user_id': 3142604, 'user_type': 'registered', 'profile_image': 'https://www.gravatar.com/avatar/b17b524b9604f851db8826f56393f2f0?s=256&d=identicon&r=PG', 'display_name': 'Jacob', 'link': 'https://stackoverflow.com/users/3142604/jacob'}, 'is_answered': False, 'view_count': 15, 'answer_count': 1, 'score': 0, 'last_activity_date': 1752318937, 'creation_date': 1752316298, 'question_id': 79699197, 'content_license': 'CC BY-SA 4.0', 'link': 'https://stackoverflow.com/questions/79699197/laragon-visual-studio-php-server-live-server-live-server-web-extension-not', 'title': 'Laragon + Visual Studio Php Server &amp; Live Server + Live Server Web Extension Not Auto-Reloading Together'}, {'tags': ['firefox', 'visual-c++', 'firefox-addon', 'xpcom'], 'owner': {'account_id': 2545182, 'reputation': 277, 'user_id': 2210121, 'user_type': 'registered', 'profile_image': 'https://www.gravatar.com/avatar/4f18bf0e19f80009751c524c63ab6a3f?s=256&d=identicon&r=PG', 'display_name': 'debanka', 'link': 'https://stackoverflow.com/users/2210121/debanka'}, 'is_answered': False, 'view_count': 524, 'answer_count': 0, 'score': 1, 'last_activity_date': 1752318932, 'creation_date': 1428657322, 'last_edit_date': 1752318932, 'question_id': 29557642, 'content_license': 'CC BY-SA 4.0', 'link': 'https://stackoverflow.com/questions/29557642/get-the-url-from-mozilla-firefox', 'title': 'Get the url from mozilla firefox'}, {'tags': ['javascript', 'jquery', 'asp.net-mvc', 'firefox'], 'owner': {'account_id': 4171233, 'reputation': 2116, 'user_id': 3418949, 'user_type': 'registered', 'accept_rate': 36, 'profile_image': 'https://i.sstatic.net/5BYeG.jpg?s=256', 'display_name': 'Olegs Jasjko', 'link': 'https://stackoverflow.com/users/3418949/olegs-jasjko'}, 'is_answered': False, 'view_count': 150, 'answer_count': 3, 'score': 0, 'last_activity_date': 1752318927, 'creation_date': 1428562444, 'last_edit_date': 1752318927, 'question_id': 29531727, 'content_license': 'CC BY-SA 4.0', 'link': 'https://stackoverflow.com/questions/29531727/jquery-hide-not-work-on-mozzila-but-works-on-chrome', 'title': 'JQuery hide() not work on Mozzila but works on Chrome'}, {'tags': ['javascript', 'firefox', 'firefox-addon'], 'owner': {'account_id': 5192087, 'reputation': 83, 'user_id': 4154714, 'user_type': 'registered', 'accept_rate': 0, 'profile_image': 'https://www.gravatar.com/avatar/83ecd05bed3661ee6eade12d8c226816?s=256&d=identicon&r=PG&f=y&so-version=2', 'display_name': 'Pawelsar1', 'link': 'https://stackoverflow.com/users/4154714/pawelsar1'}, 'is_answered': False, 'view_count': 11363, 'answer_count': 1, 'score': 2, 'last_activity_date': 1752318926, 'creation_date': 1429056204, 'last_edit_date': 1752318926, 'question_id': 29639448, 'content_license': 'CC BY-SA 4.0', 'link': 'https://stackoverflow.com/questions/29639448/inject-javascript-in-firefox', 'title': 'Inject Javascript in Firefox'}, {'tags': ['c#', 'web-applications', 'asp.net-core-webapi', '.net-8.0'], 'owner': {'account_id': 84265, 'reputation': 19052, 'user_id': 235671, 'user_type': 'registered', 'accept_rate': 81, 'profile_image': 'https://i.sstatic.net/xKXSM.png?s=256', 'display_name': 't3chb0t', 'link': 'https://stackoverflow.com/users/235671/t3chb0t'}, 'is_answered': False, 'view_count': 22, 'answer_count': 0, 'score': 0, 'last_activity_date': 1752318925, 'creation_date': 1752311910, 'last_edit_date': 1752318925, 'question_id': 79699143, 'content_license': 'CC BY-SA 4.0', 'link': 'https://stackoverflow.com/questions/79699143/refactoring-minimal-web-application-pattern-into-classic-full-program-cs-with-ma', 'title': 'Refactoring minimal web application pattern into classic full Program.cs with main'}, {'tags': ['javascript', 'firefox', 'firefox-addon', 'xpi'], 'owner': {'account_id': 148035, 'reputation': 333, 'user_id': 359525, 'user_type': 'registered', 'accept_rate': 20, 'profile_image': 'https://www.gravatar.com/avatar/5b6564d1d1e036811ba32426634905ab?s=256&d=identicon&r=PG', 'display_name': 'Bear of the Year', 'link': 'https://stackoverflow.com/users/359525/bear-of-the-year'}, 'is_answered': True, 'view_count': 1764, 'answer_count': 1, 'score': 14, 'last_activity_date': 1752318920, 'creation_date': 1429809375, 'last_edit_date': 1752318920, 'question_id': 29830253, 'content_license': 'CC BY-SA 4.0', 'link': 'https://stackoverflow.com/questions/29830253/firefox-addon-inline-installation-from-website', 'title': 'Firefox addon inline installation from website'}, {'tags': ['android', 'firefox', 'build', 'fennec'], 'owner': {'account_id': 2365132, 'reputation': 3, 'user_id': 2070939, 'user_type': 'registered', 'profile_image': 'https://www.gravatar.com/avatar/bfc515613ef6f7724c29c9317087d8e2?s=256&d=identicon&r=PG', 'display_name': 'Arrival Sentosa', 'link': 'https://stackoverflow.com/users/2070939/arrival-sentosa'}, 'is_answered': True, 'view_count': 284, 'accepted_answer_id': 31519663, 'answer_count': 1, 'score': 0, 'last_activity_date': 1752318919, 'creation_date': 1429791958, 'last_edit_date': 1752318919, 'question_id': 29823431, 'content_license': 'CC BY-SA 4.0', 'link': 'https://stackoverflow.com/questions/29823431/cant-mach-build-fennec-for-android', 'title': 'Can&#39;t mach build Fennec for Android'}, {'tags': ['php', 'arrays', 'codeigniter', 'query-builder', 'where-in'], 'owner': {'account_id': 2187449, 'reputation': 716, 'user_id': 1935525, 'user_type': 'registered', 'accept_rate': 40, 'profile_image': 'https://i.sstatic.net/vNdoM.jpg?s=256', 'display_name': 'Nabil Lemsieh', 'link': 'https://stackoverflow.com/users/1935525/nabil-lemsieh'}, 'is_answered': True, 'view_count': 2202, 'answer_count': 3, 'score': 1, 'last_activity_date': 1752318848, 'creation_date': 1394638392, 'last_edit_date': 1752318848, 'question_id': 22356372, 'content_license': 'CC BY-SA 4.0', 'link': 'https://stackoverflow.com/questions/22356372/codeigniter-renders-an-invalid-query-when-an-empty-array-is-passed-into-where-in', 'title': 'CodeIgniter renders an invalid query when an empty array is passed into where_in()'}, {'tags': ['ios', 'coreml', 'mlmodel'], 'owner': {'account_id': 2480699, 'reputation': 79, 'user_id': 2160239, 'user_type': 'registered', 'profile_image': 'https://www.gravatar.com/avatar/598a52cf71fc0382588571f76fa8c9c2?s=256&d=identicon&r=PG', 'display_name': 'Amit', 'link': 'https://stackoverflow.com/users/2160239/amit'}, 'is_answered': False, 'view_count': 238, 'answer_count': 3, 'score': 0, 'last_activity_date': 1752318848, 'creation_date': 1684844149, 'question_id': 76314647, 'content_license': 'CC BY-SA 4.0', 'link': 'https://stackoverflow.com/questions/76314647/core-ml-fetching-decryption-key-from-server-failed', 'title': 'Core ML Fetching decryption key from server failed'}, {'tags': ['java', 'spring', 'junit', 'mockito', 'resttemplate'], 'owner': {'account_id': 10356917, 'reputation': 1345, 'user_id': 7638553, 'user_type': 'registered', 'accept_rate': 64, 'profile_image': 'https://lh5.googleusercontent.com/-ngIx5RORnlI/AAAAAAAAAAI/AAAAAAAAKOQ/mn1Db_vLkU0/s256-rj/photo.jpg', 'display_name': 'Poonkodi Sivapragasam', 'link': 'https://stackoverflow.com/users/7638553/poonkodi-sivapragasam'}, 'is_answered': False, 'view_count': 214, 'answer_count': 1, 'score': -1, 'last_activity_date': 1752318753, 'creation_date': 1560398143, 'question_id': 56573173, 'content_license': 'CC BY-SA 4.0', 'link': 'https://stackoverflow.com/questions/56573173/unable-to-mock-a-json-response-in-spring-resttemplate', 'title': 'Unable to mock a JSON response in Spring RestTemplate'}, {'tags': ['authentication', 'login-script'], 'owner': {'user_type': 'does_not_exist', 'display_name': 'steve kristof'}, 'is_answered': True, 'view_count': 1685, 'answer_count': 6, 'score': 0, 'last_activity_date': 1752318734, 'creation_date': 1231837927, 'last_edit_date': 1231841532, 'question_id': 438405, 'content_license': 'CC BY-SA 2.5', 'link': 'https://stackoverflow.com/questions/438405/creating-a-login-section-im-new-an-need-some-serious-direction-please', 'title': 'Creating a login section - Im new an need some serious direction please!'}, {'tags': ['react-native', 'expo'], 'owner': {'account_id': 16785745, 'reputation': 709, 'user_id': 12134769, 'user_type': 'registered', 'profile_image': 'https://lh3.googleusercontent.com/a-/AAuE7mCoMCfOJ3NlPYAfh_8fnJLdUT_lsGBCCritmEd90g=k-s256', 'display_name': 'Patrick Iradukunda', 'link': 'https://stackoverflow.com/users/12134769/patrick-iradukunda'}, 'is_answered': True, 'view_count': 58914, 'accepted_answer_id': 63622054, 'answer_count': 16, 'score': 36, 'last_activity_date': 1752318708, 'creation_date': 1593883212, 'last_edit_date': 1653072086, 'question_id': 62732197, 'content_license': 'CC BY-SA 4.0', 'link': 'https://stackoverflow.com/questions/62732197/why-is-expo-not-refreshing-when-i-save-changes', 'title': 'Why is expo not refreshing when I save changes?'}, {'tags': ['python', 'mongodb', 'docker', 'flask', 'nginx'], 'owner': {'account_id': 1365179, 'reputation': 148, 'user_id': 1301779, 'user_type': 'registered', 'profile_image': 'https://www.gravatar.com/avatar/d1456a7c85e0e19594de0e9d0b7d675e?s=256&d=identicon&r=PG', 'display_name': 'UVuuMe', 'link': 'https://stackoverflow.com/users/1301779/uvuume'}, 'is_answered': False, 'view_count': 15, 'answer_count': 0, 'score': 0, 'last_activity_date': 1752318701, 'creation_date': 1752318342, 'last_edit_date': 1752318701, 'question_id': 79699218, 'content_license': 'CC BY-SA 4.0', 'link': 'https://stackoverflow.com/questions/79699218/cannot-connect-to-mongo-atlas-from-flask-app-inside-docker-with-nginx', 'title': 'Cannot connect to Mongo Atlas from Flask App inside Docker with Nginx'}, {'tags': ['python', 'onedrive', 'python-venv'], 'owner': {'account_id': 10695407, 'reputation': 23, 'user_id': 7872757, 'user_type': 'registered', 'profile_image': 'https://www.gravatar.com/avatar/89b36f8e89cb792fe231940fd97bcbc7?s=256&d=identicon&r=PG&f=y&so-version=2', 'display_name': 'Carlos', 'link': 'https://stackoverflow.com/users/7872757/carlos'}, 'is_answered': False, 'view_count': 1122, 'answer_count': 1, 'score': 2, 'last_activity_date': 1752318651, 'creation_date': 1663853430, 'question_id': 73815565, 'content_license': 'CC BY-SA 4.0', 'link': 'https://stackoverflow.com/questions/73815565/removing-python-venv-from-onedrive', 'title': 'Removing Python venv from OneDrive'}, {'tags': ['spring-boot', 'kotlin', 'discord', 'spring-oauth2'], 'owner': {'account_id': 1314915, 'reputation': 8039, 'user_id': 1262024, 'user_type': 'registered', 'accept_rate': 88, 'profile_image': 'https://i.sstatic.net/zKgL8.jpg?s=256', 'display_name': 'Smajl', 'link': 'https://stackoverflow.com/users/1262024/smajl'}, 'is_answered': False, 'view_count': 41, 'answer_count': 0, 'score': 0, 'last_activity_date': 1752318639, 'creation_date': 1752146492, 'last_edit_date': 1752318639, 'question_id': 79696979, 'content_license': 'CC BY-SA 4.0', 'link': 'https://stackoverflow.com/questions/79696979/no-user-context-present-after-finishing-oauth2-flow', 'title': 'No user context present after finishing Oauth2 flow'}, {'tags': ['c#', '.net-core', 'azure-communication-services'], 'owner': {'account_id': 9526200, 'reputation': 187, 'user_id': 7079339, 'user_type': 'registered', 'accept_rate': 43, 'profile_image': 'https://www.gravatar.com/avatar/9ad3e55f00118075beeba887f2bbd605?s=256&d=identicon&r=PG&f=y&so-version=2', 'display_name': 'Vladimir B', 'link': 'https://stackoverflow.com/users/7079339/vladimir-b'}, 'is_answered': False, 'view_count': 36, 'closed_date': 1752197747, 'answer_count': 0, 'score': 1, 'last_activity_date': 1752318490, 'creation_date': 1752098204, 'last_edit_date': 1752318490, 'question_id': 79696298, 'link': 'https://stackoverflow.com/questions/79696298/how-to-accept-incoming-teams-call-in-acs-call-automation-sdk-and-transfer-to-sip', 'closed_reason': 'Needs more focus', 'title': 'How to accept incoming Teams call in ACS Call Automation SDK and transfer to SIP without Teams Phone license?'}, {'tags': ['python', 'pandas', 'melt', 'pandas-melt'], 'owner': {'account_id': 5581563, 'reputation': 625, 'user_id': 4423300, 'user_type': 'registered', 'accept_rate': 100, 'profile_image': 'https://www.gravatar.com/avatar/984a0cf144b2868efab819eb5661f757?s=256&d=identicon&r=PG&f=y&so-version=2', 'display_name': 'SheCodes', 'link': 'https://stackoverflow.com/users/4423300/shecodes'}, 'is_answered': False, 'view_count': 81, 'answer_count': 1, 'score': 0, 'last_activity_date': 1752318432, 'creation_date': 1752041642, 'last_edit_date': 1752259013, 'question_id': 79695141, 'content_license': 'CC BY-SA 4.0', 'link': 'https://stackoverflow.com/questions/79695141/csv-file-wide-to-long-float-value-gets-truncated-and-getting-integer-for-index', 'title': 'csv file wide to long. Float value gets truncated and getting integer for index column'}, {'tags': ['python', 'snowflake-cloud-data-platform', 'udtf'], 'owner': {'account_id': 39369269, 'reputation': 1, 'user_id': 29242723, 'user_type': 'registered', 'profile_image': 'https://www.gravatar.com/avatar/9934391fbcc0f7d77e52ccfdecd7e798?s=256&d=identicon&r=PG&f=y&so-version=2', 'display_name': 'Nishant Saraswat', 'link': 'https://stackoverflow.com/users/29242723/nishant-saraswat'}, 'is_answered': False, 'view_count': 14, 'answer_count': 0, 'score': -1, 'last_activity_date': 1752318429, 'creation_date': 1752318429, 'question_id': 79699219, 'content_license': 'CC BY-SA 4.0', 'link': 'https://stackoverflow.com/questions/79699219/calling-snowflake-udtf-from-snowflake-stored-procedure', 'title': 'Calling snowflake udtf from snowflake stored procedure'}, {'tags': ['node.js', 'typescript', 'large-language-model', 'model-context-protocol', 'anthropic'], 'owner': {'account_id': 5186979, 'reputation': 1559, 'user_id': 4151080, 'user_type': 'registered', 'accept_rate': 56, 'profile_image': 'https://lh5.googleusercontent.com/-GtVcat7nYvs/AAAAAAAAAAI/AAAAAAAAABU/0a5yjXMEkWY/s256-rj/photo.jpg', 'display_name': 'Jainam Jhaveri', 'link': 'https://stackoverflow.com/users/4151080/jainam-jhaveri'}, 'is_answered': False, 'view_count': 10, 'answer_count': 0, 'score': -1, 'last_activity_date': 1752318299, 'creation_date': 1752318299, 'question_id': 79699217, 'content_license': 'CC BY-SA 4.0', 'link': 'https://stackoverflow.com/questions/79699217/how-to-handle-token-limit-issues-when-processing-large-json-responses-via-mcp-cl', 'title': 'How to handle token limit issues when processing large JSON responses via MCP client-server with LLMs?'}, {'tags': ['mariadb', 'mariadb-10.6'], 'owner': {'account_id': 3202454, 'reputation': 841, 'user_id': 2704265, 'user_type': 'registered', 'accept_rate': 11, 'profile_image': 'https://www.gravatar.com/avatar/35f553ba7ce26c0a81ed223cc179ea12?s=256&d=identicon&r=PG&f=y&so-version=2', 'display_name': 'alancc', 'link': 'https://stackoverflow.com/users/2704265/alancc'}, 'is_answered': False, 'view_count': 12, 'answer_count': 0, 'score': 0, 'last_activity_date': 1752318260, 'creation_date': 1752316075, 'last_edit_date': 1752318260, 'question_id': 79699194, 'content_license': 'CC BY-SA 4.0', 'link': 'https://stackoverflow.com/questions/79699194/increase-tmp-table-size-max-heap-table-size-does-not-improve-tmp-tables-todisk-p', 'title': 'Increase tmp_table_size/max_heap_table_size does not improve Tmp_Tables_ToDisk percentage'}, {'tags': ['spring', 'spring-security', 'checkmarx', 'secure-coding', 'checkmark'], 'owner': {'account_id': 3605417, 'reputation': 1121, 'user_id': 3007690, 'user_type': 'registered', 'accept_rate': 64, 'profile_image': 'https://i.sstatic.net/0rsC3.jpg?s=256', 'display_name': 'kandarp', 'link': 'https://stackoverflow.com/users/3007690/kandarp'}, 'is_answered': False, 'view_count': 8581, 'answer_count': 1, 'score': 1, 'last_activity_date': 1752318240, 'creation_date': 1613920833, 'last_edit_date': 1614769558, 'question_id': 66303835, 'content_license': 'CC BY-SA 4.0', 'link': 'https://stackoverflow.com/questions/66303835/checkmarx-unsafe-object-binding', 'title': 'Checkmarx: Unsafe object binding'}, {'tags': ['html', 'image', 'directory', 'notepad'], 'owner': {'account_id': 18512608, 'reputation': 1, 'user_id': 13487448, 'user_type': 'registered', 'profile_image': 'https://www.gravatar.com/avatar/b89b0849eb60704223e7dc7aadf74be4?s=256&d=identicon&r=PG&f=y&so-version=2', 'display_name': 'Infinity868', 'link': 'https://stackoverflow.com/users/13487448/infinity868'}, 'is_answered': False, 'view_count': 25597, 'answer_count': 2, 'score': 0, 'last_activity_date': 1752318240, 'creation_date': 1588818716, 'question_id': 61648863, 'content_license': 'CC BY-SA 4.0', 'link': 'https://stackoverflow.com/questions/61648863/how-do-i-add-multiple-pages-to-my-html-website-in-notepad', 'title': 'How do I add multiple pages to my html website in notepad?'}], 'has_more': True, 'quota_max': 300, 'quota_remaining': 296}\n"
          ]
        }
      ]
    },
    {
      "cell_type": "code",
      "source": [
        "for item in result.json()['items']:\n",
        "    print(f\"Question Title: {item['title']}\")\n",
        "    print(f\"Question Link: {item['link']}\")\n",
        "    print(\"-\" * 20) # Separator for clarity"
      ],
      "metadata": {
        "colab": {
          "base_uri": "https://localhost:8080/"
        },
        "id": "-AUAcL3nTDBy",
        "outputId": "05b7c6cb-0467-41d6-f60d-7a347a52af58"
      },
      "execution_count": 19,
      "outputs": [
        {
          "output_type": "stream",
          "name": "stdout",
          "text": [
            "Question Title: How to use relative path to get file in C drive but the current program file is in D drive?\n",
            "Question Link: https://stackoverflow.com/questions/79699163/how-to-use-relative-path-to-get-file-in-c-drive-but-the-current-program-file-is\n",
            "--------------------\n",
            "Question Title: Cannot load FastAI .pkl model locally due to missing AMPMode and module version issues\n",
            "Question Link: https://stackoverflow.com/questions/79698656/cannot-load-fastai-pkl-model-locally-due-to-missing-ampmode-and-module-version\n",
            "--------------------\n",
            "Question Title: Why does this CMake list variable expansion not behave as expected?\n",
            "Question Link: https://stackoverflow.com/questions/79693529/why-does-this-cmake-list-variable-expansion-not-behave-as-expected\n",
            "--------------------\n",
            "Question Title: vue data isn`t displayed on a page\n",
            "Question Link: https://stackoverflow.com/questions/77666567/vue-data-isnt-displayed-on-a-page\n",
            "--------------------\n",
            "Question Title: How to prevent filtered component from re-rendering over and over?\n",
            "Question Link: https://stackoverflow.com/questions/79674218/how-to-prevent-filtered-component-from-re-rendering-over-and-over\n",
            "--------------------\n",
            "Question Title: Is the finish awaited process executed using multi thread or interrupt function in this scenario\n",
            "Question Link: https://stackoverflow.com/questions/79699227/is-the-finish-awaited-process-executed-using-multi-thread-or-interrupt-function\n",
            "--------------------\n",
            "Question Title: Is it possible to route traffic through another server with HAProxy?\n",
            "Question Link: https://stackoverflow.com/questions/79693542/is-it-possible-to-route-traffic-through-another-server-with-haproxy\n",
            "--------------------\n",
            "Question Title: Get model in the controller\n",
            "Question Link: https://stackoverflow.com/questions/43190746/get-model-in-the-controller\n",
            "--------------------\n",
            "Question Title: Laragon + Visual Studio Php Server &amp; Live Server + Live Server Web Extension Not Auto-Reloading Together\n",
            "Question Link: https://stackoverflow.com/questions/79699197/laragon-visual-studio-php-server-live-server-live-server-web-extension-not\n",
            "--------------------\n",
            "Question Title: Get the url from mozilla firefox\n",
            "Question Link: https://stackoverflow.com/questions/29557642/get-the-url-from-mozilla-firefox\n",
            "--------------------\n",
            "Question Title: JQuery hide() not work on Mozzila but works on Chrome\n",
            "Question Link: https://stackoverflow.com/questions/29531727/jquery-hide-not-work-on-mozzila-but-works-on-chrome\n",
            "--------------------\n",
            "Question Title: Inject Javascript in Firefox\n",
            "Question Link: https://stackoverflow.com/questions/29639448/inject-javascript-in-firefox\n",
            "--------------------\n",
            "Question Title: Refactoring minimal web application pattern into classic full Program.cs with main\n",
            "Question Link: https://stackoverflow.com/questions/79699143/refactoring-minimal-web-application-pattern-into-classic-full-program-cs-with-ma\n",
            "--------------------\n",
            "Question Title: Firefox addon inline installation from website\n",
            "Question Link: https://stackoverflow.com/questions/29830253/firefox-addon-inline-installation-from-website\n",
            "--------------------\n",
            "Question Title: Can&#39;t mach build Fennec for Android\n",
            "Question Link: https://stackoverflow.com/questions/29823431/cant-mach-build-fennec-for-android\n",
            "--------------------\n",
            "Question Title: CodeIgniter renders an invalid query when an empty array is passed into where_in()\n",
            "Question Link: https://stackoverflow.com/questions/22356372/codeigniter-renders-an-invalid-query-when-an-empty-array-is-passed-into-where-in\n",
            "--------------------\n",
            "Question Title: Core ML Fetching decryption key from server failed\n",
            "Question Link: https://stackoverflow.com/questions/76314647/core-ml-fetching-decryption-key-from-server-failed\n",
            "--------------------\n",
            "Question Title: Unable to mock a JSON response in Spring RestTemplate\n",
            "Question Link: https://stackoverflow.com/questions/56573173/unable-to-mock-a-json-response-in-spring-resttemplate\n",
            "--------------------\n",
            "Question Title: Creating a login section - Im new an need some serious direction please!\n",
            "Question Link: https://stackoverflow.com/questions/438405/creating-a-login-section-im-new-an-need-some-serious-direction-please\n",
            "--------------------\n",
            "Question Title: Why is expo not refreshing when I save changes?\n",
            "Question Link: https://stackoverflow.com/questions/62732197/why-is-expo-not-refreshing-when-i-save-changes\n",
            "--------------------\n",
            "Question Title: Cannot connect to Mongo Atlas from Flask App inside Docker with Nginx\n",
            "Question Link: https://stackoverflow.com/questions/79699218/cannot-connect-to-mongo-atlas-from-flask-app-inside-docker-with-nginx\n",
            "--------------------\n",
            "Question Title: Removing Python venv from OneDrive\n",
            "Question Link: https://stackoverflow.com/questions/73815565/removing-python-venv-from-onedrive\n",
            "--------------------\n",
            "Question Title: No user context present after finishing Oauth2 flow\n",
            "Question Link: https://stackoverflow.com/questions/79696979/no-user-context-present-after-finishing-oauth2-flow\n",
            "--------------------\n",
            "Question Title: How to accept incoming Teams call in ACS Call Automation SDK and transfer to SIP without Teams Phone license?\n",
            "Question Link: https://stackoverflow.com/questions/79696298/how-to-accept-incoming-teams-call-in-acs-call-automation-sdk-and-transfer-to-sip\n",
            "--------------------\n",
            "Question Title: csv file wide to long. Float value gets truncated and getting integer for index column\n",
            "Question Link: https://stackoverflow.com/questions/79695141/csv-file-wide-to-long-float-value-gets-truncated-and-getting-integer-for-index\n",
            "--------------------\n",
            "Question Title: Calling snowflake udtf from snowflake stored procedure\n",
            "Question Link: https://stackoverflow.com/questions/79699219/calling-snowflake-udtf-from-snowflake-stored-procedure\n",
            "--------------------\n",
            "Question Title: How to handle token limit issues when processing large JSON responses via MCP client-server with LLMs?\n",
            "Question Link: https://stackoverflow.com/questions/79699217/how-to-handle-token-limit-issues-when-processing-large-json-responses-via-mcp-cl\n",
            "--------------------\n",
            "Question Title: Increase tmp_table_size/max_heap_table_size does not improve Tmp_Tables_ToDisk percentage\n",
            "Question Link: https://stackoverflow.com/questions/79699194/increase-tmp-table-size-max-heap-table-size-does-not-improve-tmp-tables-todisk-p\n",
            "--------------------\n",
            "Question Title: Checkmarx: Unsafe object binding\n",
            "Question Link: https://stackoverflow.com/questions/66303835/checkmarx-unsafe-object-binding\n",
            "--------------------\n",
            "Question Title: How do I add multiple pages to my html website in notepad?\n",
            "Question Link: https://stackoverflow.com/questions/61648863/how-do-i-add-multiple-pages-to-my-html-website-in-notepad\n",
            "--------------------\n"
          ]
        }
      ]
    },
    {
      "cell_type": "code",
      "source": [
        "for questions in result.json()['items']:\n",
        "    if questions['answer_count'] == 0:\n",
        "        print(f\"Question Title: {item['title']}\")\n",
        "        print(f\"Question Link: {item['link']}\")\n",
        "    else:\n",
        "        print(\"skipped\")\n",
        "    print()"
      ],
      "metadata": {
        "colab": {
          "base_uri": "https://localhost:8080/"
        },
        "id": "n01nZhJVUrEZ",
        "outputId": "b453af08-8f3a-43fa-8631-e9576ad5dfd9"
      },
      "execution_count": 21,
      "outputs": [
        {
          "output_type": "stream",
          "name": "stdout",
          "text": [
            "Question Title: How to use relative path to get file in C drive but the current program file is in D drive?\n",
            "Question Link: https://stackoverflow.com/questions/79699163/how-to-use-relative-path-to-get-file-in-c-drive-but-the-current-program-file-is\n",
            "\n",
            "Question Title: How to use relative path to get file in C drive but the current program file is in D drive?\n",
            "Question Link: https://stackoverflow.com/questions/79699163/how-to-use-relative-path-to-get-file-in-c-drive-but-the-current-program-file-is\n",
            "\n",
            "Question Title: How to use relative path to get file in C drive but the current program file is in D drive?\n",
            "Question Link: https://stackoverflow.com/questions/79699163/how-to-use-relative-path-to-get-file-in-c-drive-but-the-current-program-file-is\n",
            "\n",
            "skipped\n",
            "\n",
            "skipped\n",
            "\n",
            "Question Title: How to use relative path to get file in C drive but the current program file is in D drive?\n",
            "Question Link: https://stackoverflow.com/questions/79699163/how-to-use-relative-path-to-get-file-in-c-drive-but-the-current-program-file-is\n",
            "\n",
            "skipped\n",
            "\n",
            "skipped\n",
            "\n",
            "skipped\n",
            "\n",
            "Question Title: How to use relative path to get file in C drive but the current program file is in D drive?\n",
            "Question Link: https://stackoverflow.com/questions/79699163/how-to-use-relative-path-to-get-file-in-c-drive-but-the-current-program-file-is\n",
            "\n",
            "skipped\n",
            "\n",
            "skipped\n",
            "\n",
            "Question Title: How to use relative path to get file in C drive but the current program file is in D drive?\n",
            "Question Link: https://stackoverflow.com/questions/79699163/how-to-use-relative-path-to-get-file-in-c-drive-but-the-current-program-file-is\n",
            "\n",
            "skipped\n",
            "\n",
            "skipped\n",
            "\n",
            "skipped\n",
            "\n",
            "skipped\n",
            "\n",
            "skipped\n",
            "\n",
            "skipped\n",
            "\n",
            "skipped\n",
            "\n",
            "Question Title: How to use relative path to get file in C drive but the current program file is in D drive?\n",
            "Question Link: https://stackoverflow.com/questions/79699163/how-to-use-relative-path-to-get-file-in-c-drive-but-the-current-program-file-is\n",
            "\n",
            "skipped\n",
            "\n",
            "Question Title: How to use relative path to get file in C drive but the current program file is in D drive?\n",
            "Question Link: https://stackoverflow.com/questions/79699163/how-to-use-relative-path-to-get-file-in-c-drive-but-the-current-program-file-is\n",
            "\n",
            "Question Title: How to use relative path to get file in C drive but the current program file is in D drive?\n",
            "Question Link: https://stackoverflow.com/questions/79699163/how-to-use-relative-path-to-get-file-in-c-drive-but-the-current-program-file-is\n",
            "\n",
            "skipped\n",
            "\n",
            "Question Title: How to use relative path to get file in C drive but the current program file is in D drive?\n",
            "Question Link: https://stackoverflow.com/questions/79699163/how-to-use-relative-path-to-get-file-in-c-drive-but-the-current-program-file-is\n",
            "\n",
            "Question Title: How to use relative path to get file in C drive but the current program file is in D drive?\n",
            "Question Link: https://stackoverflow.com/questions/79699163/how-to-use-relative-path-to-get-file-in-c-drive-but-the-current-program-file-is\n",
            "\n",
            "Question Title: How to use relative path to get file in C drive but the current program file is in D drive?\n",
            "Question Link: https://stackoverflow.com/questions/79699163/how-to-use-relative-path-to-get-file-in-c-drive-but-the-current-program-file-is\n",
            "\n",
            "skipped\n",
            "\n",
            "skipped\n",
            "\n"
          ]
        }
      ]
    },
    {
      "cell_type": "code",
      "source": [],
      "metadata": {
        "id": "18CIzurWZP5k"
      },
      "execution_count": null,
      "outputs": []
    }
  ]
}